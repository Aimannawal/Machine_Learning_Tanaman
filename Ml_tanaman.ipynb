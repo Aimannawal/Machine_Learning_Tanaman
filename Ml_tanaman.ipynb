{
 "cells": [
  {
   "cell_type": "code",
   "execution_count": null,
   "id": "f58384c5",
   "metadata": {},
   "outputs": [
    {
     "name": "stdout",
     "output_type": "stream",
     "text": [
      "Preview data:\n",
      "     N   P   K    temperature       humidity             ph       rainfall  \\\n",
      "0  90  42  43  2.087.974.371  8.200.274.423  6.502.985.292  2.029.355.362   \n",
      "1  85  58  41  2.177.046.169  8.031.964.408  7.038.096.361  2.266.555.374   \n",
      "2  60  55  44  2.300.445.915    823.207.629  7.840.207.144  2.639.642.476   \n",
      "3  74  35  40  2.649.109.635  8.015.836.264  6.980.400.905  2.428.640.342   \n",
      "4  78  42  42  2.013.017.482  8.160.487.287  7.628.472.891  2.627.173.405   \n",
      "\n",
      "  label  \n",
      "0  rice  \n",
      "1  rice  \n",
      "2  rice  \n",
      "3  rice  \n",
      "4  rice  \n",
      "\n",
      "Tipe data tiap kolom:\n",
      " N               int64\n",
      "P               int64\n",
      "K               int64\n",
      "temperature    object\n",
      "humidity       object\n",
      "ph             object\n",
      "rainfall       object\n",
      "label          object\n",
      "dtype: object\n",
      "\n",
      "Jumlah data kosong per kolom:\n",
      " N              0\n",
      "P              0\n",
      "K              0\n",
      "temperature    0\n",
      "humidity       0\n",
      "ph             0\n",
      "rainfall       0\n",
      "label          0\n",
      "dtype: int64\n"
     ]
    }
   ],
   "source": [
    "import pandas as pd\n",
    "\n",
    "df = pd.read_csv(\"Crop_recommendation.csv\", delimiter=';')\n",
    "\n",
    "print(\"Preview data:\\n\", df.head())\n",
    "\n",
    "print(\"\\nTipe data tiap kolom:\\n\", df.dtypes)\n",
    "\n",
    "print(\"\\nJumlah data kosong per kolom:\\n\", df.isnull().sum())\n"
   ]
  },
  {
   "cell_type": "code",
   "execution_count": null,
   "id": "3628c717",
   "metadata": {},
   "outputs": [
    {
     "name": "stdout",
     "output_type": "stream",
     "text": [
      "    temperature      humidity            ph      rainfall\n",
      "0  2.087974e+10  8.200274e+10  6.502985e+10  2.029355e+10\n",
      "1  2.177046e+10  8.031964e+10  7.038096e+10  2.266555e+10\n",
      "2  2.300446e+10  8.232076e+09  7.840207e+10  2.639642e+10\n",
      "3  2.649110e+10  8.015836e+10  6.980401e+10  2.428640e+10\n",
      "4  2.013017e+10  8.160487e+10  7.628473e+10  2.627173e+10\n",
      "\n",
      "Tipe data setelah dibersihkan:\n",
      " temperature    float64\n",
      "humidity       float64\n",
      "ph             float64\n",
      "rainfall       float64\n",
      "dtype: object\n"
     ]
    }
   ],
   "source": [
    "cols_to_clean = ['temperature', 'humidity', 'ph', 'rainfall']\n",
    "\n",
    "for col in cols_to_clean:\n",
    "    df[col] = df[col].astype(str).str.replace('.', '', regex=False).astype(float)\n",
    "\n",
    "print(df[cols_to_clean].head())\n",
    "print(\"\\nTipe data setelah dibersihkan:\\n\", df[cols_to_clean].dtypes)\n"
   ]
  },
  {
   "cell_type": "code",
   "execution_count": null,
   "id": "6ab35fda",
   "metadata": {},
   "outputs": [
    {
     "name": "stdout",
     "output_type": "stream",
     "text": [
      "label\n",
      "rice          139\n",
      "Soyabeans     130\n",
      "banana        130\n",
      "beans         125\n",
      "cowpeas       122\n",
      "orange        122\n",
      "maize         119\n",
      "coffee        110\n",
      "peas          100\n",
      "groundnuts    100\n",
      "mango         100\n",
      "watermelon    100\n",
      "grapes        100\n",
      "apple         100\n",
      "cotton        100\n",
      "Name: count, dtype: int64\n"
     ]
    }
   ],
   "source": [
    "print(df['label'].value_counts())"
   ]
  },
  {
   "cell_type": "code",
   "execution_count": null,
   "id": "60f6ad00",
   "metadata": {},
   "outputs": [],
   "source": [
    "X = df.drop('label', axis=1)\n",
    "y = df['label']"
   ]
  },
  {
   "cell_type": "code",
   "execution_count": null,
   "id": "f6e5e9a5",
   "metadata": {},
   "outputs": [],
   "source": [
    "from sklearn.model_selection import train_test_split\n",
    "\n",
    "X_train, X_test, y_train, y_test = train_test_split(\n",
    "    X, y, test_size=0.2, random_state=42\n",
    ")"
   ]
  },
  {
   "cell_type": "code",
   "execution_count": null,
   "id": "46d97982",
   "metadata": {},
   "outputs": [
    {
     "name": "stdout",
     "output_type": "stream",
     "text": [
      "Rekomendasi Tanaman: rice\n"
     ]
    }
   ],
   "source": [
    "import pandas as pd\n",
    "\n",
    "data_baru = pd.DataFrame([{\n",
    "    \"N\": 90,\n",
    "    \"P\": 42,\n",
    "    \"K\": 43,\n",
    "    \"temperature\": 20.87,\n",
    "    \"humidity\": 82.00,\n",
    "    \"ph\": 6.50,\n",
    "    \"rainfall\": 20.29\n",
    "}])\n",
    "\n",
    "hasil_prediksi = model.predict(data_baru)\n",
    "print(\"Rekomendasi Tanaman:\", hasil_prediksi[0])"
   ]
  }
 ],
 "metadata": {
  "kernelspec": {
   "display_name": "Python 3",
   "language": "python",
   "name": "python3"
  },
  "language_info": {
   "codemirror_mode": {
    "name": "ipython",
    "version": 3
   },
   "file_extension": ".py",
   "mimetype": "text/x-python",
   "name": "python",
   "nbconvert_exporter": "python",
   "pygments_lexer": "ipython3",
   "version": "3.12.5"
  }
 },
 "nbformat": 4,
 "nbformat_minor": 5
}
